{
  "cells": [
    {
      "cell_type": "code",
      "execution_count": null,
      "metadata": {
        "id": "d7k6roLb4evh",
        "colab": {
          "base_uri": "https://localhost:8080/"
        },
        "outputId": "143688cb-c5ad-4d4f-885b-ac6d8eabba78"
      },
      "outputs": [
        {
          "output_type": "stream",
          "name": "stdout",
          "text": [
            "Collecting mne\n",
            "  Downloading mne-1.5.1-py3-none-any.whl (7.7 MB)\n",
            "\u001b[2K     \u001b[90m━━━━━━━━━━━━━━━━━━━━━━━━━━━━━━━━━━━━━━━━\u001b[0m \u001b[32m7.7/7.7 MB\u001b[0m \u001b[31m50.7 MB/s\u001b[0m eta \u001b[36m0:00:00\u001b[0m\n",
            "\u001b[?25hRequirement already satisfied: numpy>=1.15.4 in /usr/local/lib/python3.10/dist-packages (from mne) (1.23.5)\n",
            "Requirement already satisfied: scipy>=1.6.3 in /usr/local/lib/python3.10/dist-packages (from mne) (1.11.3)\n",
            "Requirement already satisfied: matplotlib>=3.4.0 in /usr/local/lib/python3.10/dist-packages (from mne) (3.7.1)\n",
            "Requirement already satisfied: tqdm in /usr/local/lib/python3.10/dist-packages (from mne) (4.66.1)\n",
            "Requirement already satisfied: pooch>=1.5 in /usr/local/lib/python3.10/dist-packages (from mne) (1.7.0)\n",
            "Requirement already satisfied: decorator in /usr/local/lib/python3.10/dist-packages (from mne) (4.4.2)\n",
            "Requirement already satisfied: packaging in /usr/local/lib/python3.10/dist-packages (from mne) (23.2)\n",
            "Requirement already satisfied: jinja2 in /usr/local/lib/python3.10/dist-packages (from mne) (3.1.2)\n",
            "Requirement already satisfied: contourpy>=1.0.1 in /usr/local/lib/python3.10/dist-packages (from matplotlib>=3.4.0->mne) (1.1.1)\n",
            "Requirement already satisfied: cycler>=0.10 in /usr/local/lib/python3.10/dist-packages (from matplotlib>=3.4.0->mne) (0.12.0)\n",
            "Requirement already satisfied: fonttools>=4.22.0 in /usr/local/lib/python3.10/dist-packages (from matplotlib>=3.4.0->mne) (4.43.0)\n",
            "Requirement already satisfied: kiwisolver>=1.0.1 in /usr/local/lib/python3.10/dist-packages (from matplotlib>=3.4.0->mne) (1.4.5)\n",
            "Requirement already satisfied: pillow>=6.2.0 in /usr/local/lib/python3.10/dist-packages (from matplotlib>=3.4.0->mne) (9.4.0)\n",
            "Requirement already satisfied: pyparsing>=2.3.1 in /usr/local/lib/python3.10/dist-packages (from matplotlib>=3.4.0->mne) (3.1.1)\n",
            "Requirement already satisfied: python-dateutil>=2.7 in /usr/local/lib/python3.10/dist-packages (from matplotlib>=3.4.0->mne) (2.8.2)\n",
            "Requirement already satisfied: platformdirs>=2.5.0 in /usr/local/lib/python3.10/dist-packages (from pooch>=1.5->mne) (3.11.0)\n",
            "Requirement already satisfied: requests>=2.19.0 in /usr/local/lib/python3.10/dist-packages (from pooch>=1.5->mne) (2.31.0)\n",
            "Requirement already satisfied: MarkupSafe>=2.0 in /usr/local/lib/python3.10/dist-packages (from jinja2->mne) (2.1.3)\n",
            "Requirement already satisfied: six>=1.5 in /usr/local/lib/python3.10/dist-packages (from python-dateutil>=2.7->matplotlib>=3.4.0->mne) (1.16.0)\n",
            "Requirement already satisfied: charset-normalizer<4,>=2 in /usr/local/lib/python3.10/dist-packages (from requests>=2.19.0->pooch>=1.5->mne) (3.3.0)\n",
            "Requirement already satisfied: idna<4,>=2.5 in /usr/local/lib/python3.10/dist-packages (from requests>=2.19.0->pooch>=1.5->mne) (3.4)\n",
            "Requirement already satisfied: urllib3<3,>=1.21.1 in /usr/local/lib/python3.10/dist-packages (from requests>=2.19.0->pooch>=1.5->mne) (2.0.6)\n",
            "Requirement already satisfied: certifi>=2017.4.17 in /usr/local/lib/python3.10/dist-packages (from requests>=2.19.0->pooch>=1.5->mne) (2023.7.22)\n",
            "Installing collected packages: mne\n",
            "Successfully installed mne-1.5.1\n"
          ]
        }
      ],
      "source": [
        "!pip install mne"
      ]
    },
    {
      "cell_type": "code",
      "source": [
        "!apt-get install -y ffmpeg"
      ],
      "metadata": {
        "id": "TujPpzEug0Bx",
        "colab": {
          "base_uri": "https://localhost:8080/"
        },
        "outputId": "f9911af8-afa0-4458-92f9-25243d31eb62"
      },
      "execution_count": null,
      "outputs": [
        {
          "output_type": "stream",
          "name": "stdout",
          "text": [
            "Reading package lists... Done\n",
            "Building dependency tree... Done\n",
            "Reading state information... Done\n",
            "ffmpeg is already the newest version (7:4.4.2-0ubuntu0.22.04.1).\n",
            "0 upgraded, 0 newly installed, 0 to remove and 18 not upgraded.\n"
          ]
        }
      ]
    },
    {
      "cell_type": "code",
      "source": [
        "from matplotlib.animation import FuncAnimation\n",
        "import random"
      ],
      "metadata": {
        "id": "zR6dAPmGhMgG"
      },
      "execution_count": null,
      "outputs": []
    },
    {
      "cell_type": "code",
      "execution_count": null,
      "metadata": {
        "id": "Y5W9mgm42LkX"
      },
      "outputs": [],
      "source": [
        "from google.colab import drive"
      ]
    },
    {
      "cell_type": "code",
      "execution_count": null,
      "metadata": {
        "colab": {
          "base_uri": "https://localhost:8080/"
        },
        "id": "1GTe5Au_2v4R",
        "outputId": "349ad903-b735-4d67-c38e-db989ee2b4c6"
      },
      "outputs": [
        {
          "output_type": "stream",
          "name": "stdout",
          "text": [
            "Drive already mounted at /content/drive; to attempt to forcibly remount, call drive.mount(\"/content/drive\", force_remount=True).\n"
          ]
        }
      ],
      "source": [
        "drive.mount('/content/drive')"
      ]
    },
    {
      "cell_type": "code",
      "source": [
        "import pandas as pd"
      ],
      "metadata": {
        "id": "BllCyuV3y8QZ"
      },
      "execution_count": null,
      "outputs": []
    },
    {
      "cell_type": "code",
      "source": [
        "import mne\n",
        "import pandas as pd\n",
        "\n",
        "#Stanford 6 minimal (Control) PHQ_1000 = 0\n",
        "#Stanford 21 Severe PHQ_1000 = 20\n",
        "\n",
        "\n",
        "\n",
        "edf_file_path_49 = '/content/drive/MyDrive/Data/STNF00049.edf'\n",
        "edf_file_path_52 = '/content/drive/MyDrive/Data/STNF00052.edf'\n",
        "edf_file_path_43 = '/content/drive/MyDrive/Data/STNF00043.edf'\n",
        "edf_file_path_01 = '/content/drive/MyDrive/Data/STNF00001.edf'\n",
        "edf_file_path_142 = '/content/drive/MyDrive/STANFORD/STNF00142.edf' #severe depression according to phq\n",
        "raw_1 = mne.io.read_raw_edf(edf_file_path_01, preload=False, include = 'ECG')\n",
        "raw_43 = mne.io.read_raw_edf(edf_file_path_43, preload=False, include = 'ECG')\n",
        "raw_49 = mne.io.read_raw_edf(edf_file_path_49, preload=False, include = 'ECG')\n",
        "raw_52 = mne.io.read_raw_edf(edf_file_path_52, preload=False, include = 'ECG')\n",
        "raw_142 = mne.io.read_raw_edf(edf_file_path_142, preload=False, include = 'ECG')\n",
        "\n",
        "\n",
        "data_1 = raw_1.get_data()\n",
        "data_43 = raw_43.get_data()\n",
        "data_49 = raw_49.get_data()\n",
        "data_52 = raw_52.get_data()\n",
        "data_142 = raw_52.get_data()\n",
        "channels = raw_1.ch_names\n",
        "df_1 = pd.DataFrame(data_1.T, columns=channels)\n",
        "df_43 = pd.DataFrame(data_43.T, columns=channels)\n",
        "df_49 = pd.DataFrame(data_49.T, columns=channels)\n",
        "df_52 = pd.DataFrame(data_52.T,columns = channels)\n",
        "df_142 = pd.DataFrame(data_142.T,columns = channels)"
      ],
      "metadata": {
        "id": "pdPcIDS5Oztg"
      },
      "execution_count": null,
      "outputs": []
    },
    {
      "cell_type": "code",
      "source": [
        "#Video 1\n",
        "\n",
        "import mne\n",
        "import pandas as pd\n",
        "import numpy as np\n",
        "import matplotlib.pyplot as plt\n",
        "from matplotlib.animation import FuncAnimation\n",
        "import scipy.signal as signal\n",
        "\n",
        "def create_ecg_video(data, sfreq):\n",
        "    video_duration = 100  # seconds\n",
        "    interval_ms = 400  # ms\n",
        "    window_duration = 1.5  # seconds\n",
        "    num_frames = int((video_duration) / window_duration)\n",
        "    samples_per_frame = int(window_duration * sfreq)\n",
        "    samples_per_interval = int(interval_ms / 1000 * sfreq)\n",
        "\n",
        "    def update(frame):\n",
        "        start_sample = frame * samples_per_frame\n",
        "        end_sample = start_sample + samples_per_frame\n",
        "        time_seconds = np.linspace(frame * samples_per_frame, frame * samples_per_frame + samples_per_frame, samples_per_frame)\n",
        "        time_seconds = time_seconds / sfreq\n",
        "        print(frame)\n",
        "\n",
        "        # Clear the previous plot\n",
        "        plt.clf()\n",
        "\n",
        "        # Plot the ECG signal\n",
        "        plt.plot(time_seconds, data[0, start_sample:end_sample], label='ECG Signal')\n",
        "        plt.xlabel('Time (seconds)')\n",
        "        plt.ylabel('ECG Signal')\n",
        "        plt.title('ECG Signal')\n",
        "        plt.grid(True)\n",
        "        plt.ylim([-900, 1700])\n",
        "\n",
        "        # Detect R peaks and plot them as red dots\n",
        "        ecg_signal_segment = data[0, start_sample:end_sample]\n",
        "        peaks, _ = signal.find_peaks(ecg_signal_segment, height=600)  # Adjust the height threshold as needed\n",
        "\n",
        "        # Convert peak indices to time values\n",
        "        peak_times = time_seconds[peaks]\n",
        "\n",
        "        # Mark R peaks as red dots\n",
        "        plt.scatter(peak_times, ecg_signal_segment[peaks], c='red', marker='o', label='R Peaks')\n",
        "\n",
        "        # Show the legend\n",
        "        plt.legend()\n",
        "\n",
        "    fig = plt.figure(figsize=(10, 4))\n",
        "    ani = FuncAnimation(fig, update, frames=num_frames, interval=interval_ms)\n",
        "\n",
        "    ani.save('/content/drive/MyDrive/Data/ecg_video_final_142_Rpeaks.mp4', writer='ffmpeg', fps=1000 / interval_ms)\n",
        "    plt.close()\n",
        "    print(\"Video saved as 'ecg_video_final_49.mp4'\")\n",
        "\n",
        "sfreq = raw_49.info[\"sfreq\"]\n",
        "create_ecg_video(data_142, sfreq)\n"
      ],
      "metadata": {
        "id": "3b7VVVK6XbBW"
      },
      "execution_count": null,
      "outputs": []
    },
    {
      "cell_type": "code",
      "source": [
        "plt.plot(data_142[0,1195000:1195800])"
      ],
      "metadata": {
        "colab": {
          "base_uri": "https://localhost:8080/",
          "height": 447
        },
        "id": "LMhmwNrt55cI",
        "outputId": "a79a41cb-2120-4f30-97de-4cccbef2dab4"
      },
      "execution_count": null,
      "outputs": [
        {
          "output_type": "execute_result",
          "data": {
            "text/plain": [
              "[<matplotlib.lines.Line2D at 0x7e966c547ca0>]"
            ]
          },
          "metadata": {},
          "execution_count": 68
        },
        {
          "output_type": "display_data",
          "data": {
            "text/plain": [
              "<Figure size 640x480 with 1 Axes>"
            ],
            "image/png": "[encoded data removed]"
          },
          "metadata": {}
        }
      ]
    },
    {
      "cell_type": "code",
      "source": [
        "#Video 2\n",
        "import mne\n",
        "import pandas as pd\n",
        "import numpy as np\n",
        "import matplotlib.pyplot as plt\n",
        "from matplotlib.animation import FuncAnimation\n",
        "\n",
        "\n",
        "data_49 = raw_49.get_data()\n",
        "\n",
        "channels = raw_49.ch_names\n",
        "\n",
        "df_49 = pd.DataFrame(data_49.T, columns=channels)\n",
        "\n",
        "\n",
        "def create_ecg_video1(data, sfreq):\n",
        "    video_duration = 5  # seconds\n",
        "    interval_ms = 100 #ms\n",
        "    window_duration = 2 #seconds\n",
        "    #num_frames = int((video_duration) / window_duration)\n",
        "    num_frames = int((video_duration*1000) / interval_ms)\n",
        "\n",
        "    samples_per_frame = int(window_duration * sfreq)\n",
        "    #samples_per_interval = int(interval_ms  * sfreq)\n",
        "    samples_per_interval = int((interval_ms / 1000) * sfreq)\n",
        "\n",
        "\n",
        "    def update1(frame):\n",
        "        start_sample = frame * samples_per_interval\n",
        "        end_sample = start_sample + samples_per_frame\n",
        "        time_seconds = np.linspace(frame * window_duration, frame * window_duration + window_duration, samples_per_frame)\n",
        "        #time_seconds = time_seconds/sfreq\n",
        "        print(start_sample)\n",
        "        print(end_sample)\n",
        "\n",
        "        plt.clf()\n",
        "        plt.plot(time_seconds, data[0, start_sample:end_sample])\n",
        "        plt.xlabel('Time (seconds)')\n",
        "        plt.ylabel('ECG Signal')\n",
        "        plt.title('ECG Signal')\n",
        "        plt.grid(True)\n",
        "\n",
        "    fig = plt.figure(figsize=(10, 4))\n",
        "    ani = FuncAnimation(fig, update1, frames=num_frames, interval=interval_ms)\n",
        "\n",
        "    ani.save('/content/drive/MyDrive/Data/ecg_video_final_49_video2.mp4', writer='ffmpeg', fps=1000/interval_ms)\n",
        "    plt.close()\n",
        "    print(\"Video saved as 'ecg_video_final_49_video2.mp4'\")\n",
        "\n",
        "\n",
        "sfreq = raw_49.info[\"sfreq\"]\n",
        "create_ecg_video1(data_49, sfreq)\n",
        "print(len(data_49))\n"
      ],
      "metadata": {
        "id": "B3o14Lq00Lmk"
      },
      "execution_count": null,
      "outputs": []
    },
    {
      "cell_type": "code",
      "source": [
        "import mne\n",
        "import pandas as pd\n",
        "\n",
        "#Stanford 6 minimal (Control) PHQ_1000 = 0\n",
        "#Stanford 21 Severe PHQ_1000 = 20\n",
        "\n",
        "\n",
        "\n",
        "edf_file_path_06 = '/content/drive/MyDrive/Data/STNF00049.edf'\n",
        "edf_file_path_21 = '/content/drive/MyDrive/Data/STNF00052.edf'\n",
        "\n",
        "raw_06 = mne.io.read_raw_edf(edf_file_path_06, preload=False, include = 'ECG')\n",
        "raw_21 = mne.io.read_raw_edf(edf_file_path_21, preload=False, include = 'ECG')\n",
        "\n",
        "\n",
        "\n",
        "data_06 = raw_06.get_data()\n",
        "data_21 = raw_21.get_data()\n",
        "\n",
        "channels = raw_06.ch_names\n",
        "df_06 = pd.DataFrame(data_06.T, columns=channels)\n",
        "df_21 = pd.DataFrame(data_21.T, columns=channels)\n"
      ],
      "metadata": {
        "id": "KdgTBShxhX3u"
      },
      "execution_count": null,
      "outputs": []
    },
    {
      "cell_type": "code",
      "source": [
        "import pandas as pd\n",
        "import numpy as np\n",
        "import matplotlib.pyplot as plt\n",
        "from scipy.signal import find_peaks\n",
        "\n",
        "\n",
        "time_seconds = np.arange(len(df_49)) / 512\n",
        "\n",
        "start_sample = 100000\n",
        "end_sample = start_sample + 10*512\n",
        "start_time_seconds = start_sample / 512\n",
        "end_time_seconds = end_sample / 512\n",
        "\n",
        "ecg_signal = df_49['ECG'][start_sample:end_sample].values\n",
        "\n",
        "plt.figure(figsize=(10, 4))\n",
        "plt.plot(np.arange(start_time_seconds, end_time_seconds, 1/512), ecg_signal, lw=1, color='b', label='ECG Signal')\n",
        "\n",
        "peaks, _ = find_peaks(ecg_signal, height=600)\n",
        "\n",
        "plt.plot(np.arange(start_time_seconds, end_time_seconds, 1/512)[peaks], ecg_signal[peaks], 'ro', label='R Peaks')\n",
        "\n",
        "rr_intervals = np.diff(np.arange(start_time_seconds, end_time_seconds, 1/512)[peaks])\n",
        "\n",
        "hrv_meannn = np.mean(rr_intervals)\n",
        "\n",
        "plt.title('ECG Signal with R Peaks')\n",
        "plt.xlabel('Time (seconds)')\n",
        "plt.ylabel('Amplitude')\n",
        "plt.grid(True)\n",
        "plt.legend()\n",
        "plt.show()\n",
        "\n",
        "print(f'RR-Intervals: {rr_intervals}')\n",
        "print(f'HRV_MeanNN: {hrv_meannn}')\n",
        "\n"
      ],
      "metadata": {
        "id": "tVeOWR0K5Jbr",
        "colab": {
          "base_uri": "https://localhost:8080/",
          "height": 462
        },
        "outputId": "df9733cd-1ec8-457c-e364-438c226e1bc8"
      },
      "execution_count": null,
      "outputs": [
        {
          "output_type": "display_data",
          "data": {
            "text/plain": [
              "<Figure size 1000x400 with 1 Axes>"
            ],
            "image/png": "[encoded data removed]"
          },
          "metadata": {}
        },
        {
          "output_type": "stream",
          "name": "stdout",
          "text": [
            "RR-Intervals: [1.11328125 1.140625   1.06054688 1.04492188 1.11328125 1.18554688\n",
            " 1.14453125 1.0390625 ]\n",
            "HRV_MeanNN: 1.105224609375\n"
          ]
        }
      ]
    },
    {
      "cell_type": "code",
      "source": [
        "import pandas as pd\n",
        "import numpy as np\n",
        "import matplotlib.pyplot as plt\n",
        "from scipy.signal import find_peaks\n",
        "\n",
        "sfreq = raw_49.info[\"sfreq\"]\n",
        "\n",
        "max_start_sample =  len(df_49) - 300 * sfreq\n",
        "\n",
        "\n",
        "time_seconds = np.arange(len(df_49)) / sfreq\n",
        "\n",
        "start_sample = 13100\n",
        "#np.random.randint(0, max_start_sample) start_sample + 300*sfreq\n",
        "end_sample = 13150\n",
        "start_sample = int(start_sample)\n",
        "end_sample = int(end_sample)\n",
        "\n",
        "start_time_seconds = start_sample / sfreq\n",
        "end_time_seconds = end_sample / sfreq\n",
        "\n",
        "ecg_signal = df_49['ECG'][start_sample:end_sample].values\n",
        "\n",
        "plt.figure(figsize=(10, 4))\n",
        "plt.plot(np.arange(start_time_seconds, end_time_seconds, 1/sfreq), ecg_signal, lw=1, color='b', label='ECG Signal')\n",
        "\n",
        "peaks, _ = find_peaks(ecg_signal, height=800)\n",
        "\n",
        "plt.plot(np.arange(start_time_seconds, end_time_seconds, 1/sfreq)[peaks], ecg_signal[peaks], 'ro', label='R Peaks')\n",
        "\n",
        "rr_intervals = np.diff(np.arange(start_time_seconds, end_time_seconds, 1/sfreq)[peaks])\n",
        "\n",
        "plt.title('ECG Signal with R Peaks')\n",
        "plt.xlabel('Time (seconds)')\n",
        "plt.ylabel('Amplitude')\n",
        "plt.grid(True)\n",
        "plt.legend()\n",
        "plt.show()\n"
      ],
      "metadata": {
        "id": "TvgTQltuatQQ"
      },
      "execution_count": null,
      "outputs": []
    },
    {
      "cell_type": "code",
      "source": [
        "print(rr_intervals)\n",
        "rr_intervals_ms = np.array(rr_intervals) * 1000"
      ],
      "metadata": {
        "id": "80rsqfB4J28_",
        "colab": {
          "base_uri": "https://localhost:8080/"
        },
        "outputId": "7f1bb6e0-d8be-40b9-93ec-e7fa75006c8e"
      },
      "execution_count": null,
      "outputs": [
        {
          "output_type": "stream",
          "name": "stdout",
          "text": [
            "[1.75781250e-02 9.92187500e-01 6.05859375e+00 ... 1.77734375e-01\n",
            " 1.69941406e+01 2.27167969e+01]\n"
          ]
        }
      ]
    },
    {
      "cell_type": "code",
      "source": [
        "print(len(rr_intervals))\n",
        "rr_intervals_ms = np.array(rr_intervals) * 1000"
      ],
      "metadata": {
        "id": "fUXHHNEsKWkd",
        "outputId": "c4ecda15-3d66-477f-da02-b3aaa23fe747",
        "colab": {
          "base_uri": "https://localhost:8080/"
        }
      },
      "execution_count": null,
      "outputs": [
        {
          "output_type": "stream",
          "name": "stdout",
          "text": [
            "2039\n"
          ]
        }
      ]
    },
    {
      "cell_type": "code",
      "source": [
        "plt.figure(figsize=(10, 6))\n",
        "plt.hist(rr_intervals, bins=50, color='blue', alpha=0.7)\n",
        "plt.title('Distribution of RR Intervals')\n",
        "plt.xlabel('RR Intervals (ms)')\n",
        "plt.ylabel('Frequency')\n",
        "plt.grid(True)\n",
        "plt.show()"
      ],
      "metadata": {
        "id": "22kklg3gJwkb"
      },
      "execution_count": null,
      "outputs": []
    },
    {
      "cell_type": "code",
      "source": [
        "### TIME ANALYSES in seconds\n",
        "hrv_meannn = np.mean(rr_intervals_ms)\n",
        "########\n",
        "hrv_sdnn = np.std(rr_intervals_ms)\n",
        "################\n",
        "segment_duration_seconds = 60\n",
        "average_rr_intervals = []\n",
        "for i in range(0, len(rr_intervals_ms), int(segment_duration_seconds )):\n",
        "    segment_rr_intervals = rr_intervals_ms[i:i + int(segment_duration_seconds)]\n",
        "    if len(segment_rr_intervals) > 0:\n",
        "      average_rr = np.mean(segment_rr_intervals)\n",
        "      average_rr_intervals.append(average_rr)\n",
        "hrv_sdann1 = np.std(average_rr_intervals)\n",
        "\n",
        "##########\n",
        "\n",
        "successive_differences = np.diff(rr_intervals_ms)\n",
        "squared_differences = successive_differences ** 2\n",
        "mean_squared_differences = np.mean(squared_differences)\n",
        "hrv_rmssd = np.sqrt(mean_squared_differences)\n",
        "\n",
        "############\n",
        "hrv_sdsd = np.std(successive_differences)\n",
        "########################\n",
        "\n",
        "hrv_cvnn = hrv_meannn/hrv_sdnn\n",
        "\n",
        "########################\n",
        "\n",
        "rms_successive_differences = np.sqrt(np.mean(successive_differences ** 2))\n",
        "hrv_cvsd = rms_successive_differences / hrv_meannn\n",
        "\n",
        "####\n",
        "hrv_median_nn = np.median(rr_intervals_ms)\n",
        "\n",
        "###################\n",
        "\n",
        "absolute_deviations = np.abs(rr_intervals_ms - hrv_median_nn)\n",
        "hrv_mad_nn = np.median(absolute_deviations)\n",
        "\n",
        "##############\n",
        "\n",
        "hrv_mcvnn = hrv_mad_nn/hrv_median_nn\n",
        "\n",
        "##################\n",
        "\n",
        "q1 = np.percentile(rr_intervals_ms, 25)\n",
        "q3 = np.percentile(rr_intervals_ms, 75)\n",
        "hrv_iqr_nn = q3 - q1\n",
        "\n",
        "###################\n",
        "\n",
        "count_pnn50 = np.sum(rr_intervals_ms > 50)\n",
        "\n",
        "total_rr_intervals = len(rr_intervals_ms)\n",
        "pnn50 = (count_pnn50 / total_rr_intervals) * 100\n",
        "\n",
        "###################\n",
        "\n",
        "count_pnn20 = np.sum(rr_intervals_ms > 20)\n",
        "\n",
        "total_rr_intervals = len(rr_intervals_ms)\n",
        "pnn20 = (count_pnn20 / total_rr_intervals) * 100\n",
        "\n",
        "#####################\n",
        "\n",
        "hist, bins = np.histogram(rr_intervals_ms, bins='auto')\n",
        "mode_bin = bins[np.argmax(hist)]\n",
        "total_rr_intervals = len(rr_intervals_ms)\n",
        "hti = total_rr_intervals / hist[np.argmax(hist)]\n",
        "\n",
        "\n",
        "\n",
        "print(average_rr_intervals)\n",
        "\n",
        "print(f'HRV_MeanNN: {hrv_meannn}')\n",
        "print(f'HRV_SDNN: {hrv_sdnn}')\n",
        "print(f'HRV_SDANN1: {hrv_sdann1}')\n",
        "print(f'HRV_RMSSD: {hrv_rmssd}')\n",
        "print(f'HRV_SDSD: {hrv_sdsd}')\n",
        "print(f'HRV_CVNN: {hrv_cvnn}')\n",
        "print(f'HRV_CVSD: {hrv_cvsd}')\n",
        "print(f'HRV_MedianNN: {hrv_median_nn}')\n",
        "print(f'HRV_MadNN: {hrv_mad_nn}')\n",
        "print(f'HRV_MCVNN: {hrv_mcvnn}')\n",
        "print(f'HRV_IQRNN: {hrv_iqr_nn}')\n",
        "print(f'HRV_pNN50: {pnn50}%')\n",
        "print(f'HRV_pNN50: {pnn20}%')\n",
        "print(f'HRV_HTI: {hti}')\n",
        "\n",
        "\n"
      ],
      "metadata": {
        "colab": {
          "base_uri": "https://localhost:8080/"
        },
        "id": "rjRtBOK1bg2v",
        "outputId": "9c897f82-2f08-4e27-83bd-d46725e46d69"
      },
      "execution_count": null,
      "outputs": [
        {
          "output_type": "stream",
          "name": "stdout",
          "text": [
            "[1044.4661458333333, 988.8671875, 978.3203125, 1022.94921875, 1022.4958147321429]\n",
            "HRV_MeanNN: 1011.2700591216217\n",
            "HRV_SDNN: 119.51756392789707\n",
            "HRV_SDANN1: 24.29758414045728\n",
            "HRV_RMSSD: 83.28613841406408\n",
            "HRV_SDSD: 83.28611709842303\n",
            "HRV_CVNN: 8.461267330814271\n",
            "HRV_CVSD: 0.08235795934313088\n",
            "HRV_MedianNN: 1047.8515625\n",
            "HRV_MadNN: 55.6640625\n",
            "HRV_MCVNN: 0.05312208760484623\n",
            "HRV_IQRNN: 131.34765625\n",
            "HRV_pNN50: 100.0%\n",
            "HRV_pNN50: 100.0%\n",
            "HRV_HTI: 3.8947368421052633\n"
          ]
        }
      ]
    },
    {
      "cell_type": "code",
      "source": [
        "## https://www.kaggle.com/code/stetelepta/exploring-heart-rate-variability-using-python/notebook\n",
        "\n",
        "from scipy import signal\n",
        "from scipy.ndimage import label\n",
        "from scipy.stats import zscore\n",
        "from scipy.interpolate import interp1d\n",
        "from scipy.integrate import trapz\n",
        "\n",
        "x = np.cumsum(rr_intervals_ms) /1000\n",
        "f = interp1d(x, rr_intervals_ms, kind='cubic')\n",
        "\n",
        "fs = 4.0\n",
        "steps = 1 / fs\n",
        "\n",
        "\n",
        "xx = np.arange(1, np.max(x), steps)\n",
        "rr_interpolated = f(xx)\n",
        "\n",
        "print(rr_interpolated)"
      ],
      "metadata": {
        "id": "QTwrMcXVkvzr",
        "colab": {
          "base_uri": "https://localhost:8080/"
        },
        "outputId": "cc2d4545-4e25-4d85-b5cd-6004f6130c2a"
      },
      "execution_count": null,
      "outputs": [
        {
          "output_type": "stream",
          "name": "stdout",
          "text": [
            "[920.26463918 919.70075933 917.20518192 ... 934.47808467 932.20975408\n",
            " 924.8589103 ]\n"
          ]
        }
      ]
    },
    {
      "cell_type": "code",
      "source": [
        "def frequency_domain(rri, fs=4):\n",
        "    fxx, pxx = signal.welch(x=rr_interpolated, fs=fs)\n",
        "    cond_vlf = (fxx >= 0) & (fxx < 0.04)\n",
        "    cond_lf = (fxx >= 0.04) & (fxx < 0.15)\n",
        "    cond_hf = (fxx >= 0.15) & (fxx < 0.4)\n",
        "    vlf = trapz(pxx[cond_vlf], fxx[cond_vlf])\n",
        "    lf = trapz(pxx[cond_lf], fxx[cond_lf])\n",
        "    hf = trapz(pxx[cond_hf], fxx[cond_hf])\n",
        "    total_power = vlf + lf + hf\n",
        "\n",
        "    peak_vlf = fxx[cond_vlf][np.argmax(pxx[cond_vlf])]\n",
        "    peak_lf = fxx[cond_lf][np.argmax(pxx[cond_lf])]\n",
        "    peak_hf = fxx[cond_hf][np.argmax(pxx[cond_hf])]\n",
        "\n",
        "    results = {}\n",
        "    results['Power VLF (ms2)'] = vlf\n",
        "    results['Power LF (ms2)'] = lf\n",
        "    results['Power HF (ms2)'] = hf\n",
        "\n",
        "    results['LF/HF'] = (lf/hf)\n",
        "    results['LF/total_power'] = (lf/total_power)\n",
        "    results['HF/total_power'] = (hf/total_power)\n",
        "    return results, fxx, pxx\n",
        "\n",
        "\n",
        "\n"
      ],
      "metadata": {
        "id": "VEmosRycmcV8"
      },
      "execution_count": null,
      "outputs": []
    },
    {
      "cell_type": "code",
      "source": [
        "print(\"Frequency domain metrics:\")\n",
        "results, fxx, pxx = frequency_domain(rr_interpolated)\n",
        "\n",
        "for k, v in results.items():\n",
        "    print(\"- %s: %.2f\" % (k, v))"
      ],
      "metadata": {
        "colab": {
          "base_uri": "https://localhost:8080/"
        },
        "id": "is-9ZTjjnCY0",
        "outputId": "1f1fba5b-e89d-4ad2-92f5-834a4474380d"
      },
      "execution_count": null,
      "outputs": [
        {
          "output_type": "stream",
          "name": "stdout",
          "text": [
            "Frequency domain metrics:\n",
            "- Power VLF (ms2): 243.26\n",
            "- Power LF (ms2): 544.89\n",
            "- Power HF (ms2): 694.18\n",
            "- LF/HF: 0.78\n",
            "- LF/total_power: 0.37\n",
            "- HF/total_power: 0.47\n"
          ]
        }
      ]
    },
    {
      "cell_type": "code",
      "source": [
        "import numpy as np\n",
        "import matplotlib.pyplot as plt\n",
        "from matplotlib.animation import FuncAnimation\n",
        "\n",
        "def create_ecg_video(data, sfreq):\n",
        "    video_duration = 50  # 50 seconds\n",
        "    interval_ms = 34  # 30 milliseconds\n",
        "    window_duration = 2  # The duration of the displayed window in seconds\n",
        "    num_frames = int((video_duration * 1000) / interval_ms)\n",
        "\n",
        "    def update(frame):\n",
        "        start_sample = int(frame * (sfreq * interval_ms / 1000))\n",
        "        end_sample = int(start_sample + sfreq * window_duration)\n",
        "        time_seconds = np.linspace(start_sample / sfreq, end_sample / sfreq, end_sample - start_sample)\n",
        "\n",
        "        plt.clf()\n",
        "        plt.plot(time_seconds, data[0, start_sample:end_sample])\n",
        "        plt.xlabel('Time (seconds)')\n",
        "        plt.ylabel('ECG Signal')\n",
        "        plt.title('ECG Signal')\n",
        "        plt.grid(True)\n",
        "\n",
        "    fig = plt.figure(figsize=(10, 4))\n",
        "    ani = FuncAnimation(fig, update, frames=num_frames, interval=interval_ms)\n",
        "\n",
        "    ani.save('ecg_video_final.mp4', writer='ffmpeg', fps=7)\n",
        "    plt.close()\n",
        "    print(\"Video saved as 'ecg_video_final.mp4'\")\n",
        "\n",
        "# Example usage:\n",
        "sfreq = 512  # Replace with your actual sampling frequency\n",
        "data = np.random.randn(1, sfreq * 50)  # Replace with your actual ECG data\n",
        "create_ecg_video(data, sfreq)\n"
      ],
      "metadata": {
        "id": "inUCDa8D0KL1"
      },
      "execution_count": null,
      "outputs": []
    },
    {
      "cell_type": "code",
      "source": [
        "sfreq = raw.info[\"sfreq\"]"
      ],
      "metadata": {
        "id": "3WyWA9xjhGw6"
      },
      "execution_count": null,
      "outputs": []
    },
    {
      "cell_type": "code",
      "source": [
        "import pandas as pd\n",
        "import matplotlib.pyplot as plt\n",
        "from scipy import signal\n",
        "import numpy as np\n",
        "\n",
        "\n",
        "sfreq = raw.info['sfreq']\n",
        "\n",
        "\n",
        "selected_chunk = data[0,1195000:1195800]\n",
        "\n",
        "frequencies, psd = signal.periodogram(selected_chunk, fs=sfreq)\n",
        "\n",
        "y_axis_lower_limit = 0.001\n",
        "\n",
        "plt.figure(figsize=(10, 6))\n",
        "plt.semilogy(frequencies, psd, color='b')\n",
        "plt.title('Denoised Power Spectral Density (PSD) for Selected Chunk')\n",
        "plt.xlabel('Frequency (Hz)')\n",
        "plt.ylabel('Denoised PSD (V^2/Hz)')\n",
        "\n",
        "# Set the y-axis limits\n",
        "plt.ylim(y_axis_lower_limit, max(psd))\n",
        "\n",
        "plt.grid(True)\n",
        "plt.show()"
      ],
      "metadata": {
        "id": "VYMRqgg8Z0bB"
      },
      "execution_count": null,
      "outputs": []
    },
    {
      "cell_type": "code",
      "source": [
        "info"
      ],
      "metadata": {
        "colab": {
          "base_uri": "https://localhost:8080/",
          "height": 254
        },
        "id": "QrNm2ygFSxl9",
        "outputId": "4248fbc0-2784-4ff1-86d4-4840a5dfd461"
      },
      "execution_count": null,
      "outputs": [
        {
          "output_type": "execute_result",
          "data": {
            "text/plain": [
              "<Info | 7 non-empty values\n",
              " bads: []\n",
              " ch_names: ECG\n",
              " chs: 1 ECG\n",
              " custom_ref_applied: False\n",
              " highpass: 0.0 Hz\n",
              " lowpass: 256.0 Hz\n",
              " meas_date: unspecified\n",
              " nchan: 1\n",
              " projs: []\n",
              " sfreq: 512.0 Hz\n",
              ">"
            ],
            "text/html": [
              "<table class=\"table table-hover table-striped table-sm table-responsive small\">\n",
              "    <tr>\n",
              "        <th>Measurement date</th>\n",
              "        \n",
              "        <td>Unknown</td>\n",
              "        \n",
              "    </tr>\n",
              "    <tr>\n",
              "        <th>Experimenter</th>\n",
              "        \n",
              "        <td>Unknown</td>\n",
              "        \n",
              "    </tr>\n",
              "        <th>Participant</th>\n",
              "        \n",
              "        <td>Unknown</td>\n",
              "        \n",
              "    </tr>\n",
              "    <tr>\n",
              "        <th>Digitized points</th>\n",
              "        \n",
              "        <td>Not available</td>\n",
              "        \n",
              "    </tr>\n",
              "    <tr>\n",
              "        <th>Good channels</th>\n",
              "        <td>1 ECG</td>\n",
              "    </tr>\n",
              "    <tr>\n",
              "        <th>Bad channels</th>\n",
              "        <td>None</td>\n",
              "    </tr>\n",
              "    <tr>\n",
              "        <th>EOG channels</th>\n",
              "        <td>Not available</td>\n",
              "    </tr>\n",
              "    <tr>\n",
              "        <th>ECG channels</th>\n",
              "        <td>ECG</td>\n",
              "    \n",
              "    <tr>\n",
              "        <th>Sampling frequency</th>\n",
              "        <td>512.00 Hz</td>\n",
              "    </tr>\n",
              "    \n",
              "    \n",
              "    <tr>\n",
              "        <th>Highpass</th>\n",
              "        <td>0.00 Hz</td>\n",
              "    </tr>\n",
              "    \n",
              "    \n",
              "    <tr>\n",
              "        <th>Lowpass</th>\n",
              "        <td>256.00 Hz</td>\n",
              "    </tr>\n",
              "    \n",
              "    \n",
              "</table>"
            ]
          },
          "metadata": {},
          "execution_count": 32
        }
      ]
    },
    {
      "cell_type": "code",
      "source": [
        "from scipy import signal\n",
        "import matplotlib.pyplot as plt\n",
        "import numpy as np\n",
        "\n",
        "sfreq = raw.info['sfreq']\n",
        "\n",
        "\n",
        "\n",
        "N = len(df['ECG'])\n",
        "amp = 2 * np.sqrt(2)\n",
        "time = np.arange(N) / float(sfreq)\n",
        "mod = 500 * np.cos(2 * np.pi * 0.25 * time)\n",
        "carrier = amp * np.sin(2 * np.pi * 3000 * time + mod)\n",
        "x = df['ECG']   # Use the 'ECG' column for ECG data\n",
        "\n",
        "# Calculate the spectrogram and add a small constant to prevent division by zero\n",
        "frequencies, times, Sxx = signal.spectrogram(x, fs=sfreq)\n",
        "epsilon = 1e-10  # Small constant to prevent division by zero\n",
        "Sxx = Sxx + epsilon\n",
        "\n",
        "# Plot the spectrogram\n",
        "plt.figure(figsize=(10, 6))\n",
        "plt.pcolormesh(times, frequencies, 10 * np.log10(Sxx), shading='auto', cmap='plasma')\n",
        "plt.colorbar(label='Power/Frequency (dB/Hz)')\n",
        "plt.xlabel('Time (s)')\n",
        "plt.ylabel('Frequency (Hz)')\n",
        "plt.title('Spectrogram')\n",
        "plt.show()"
      ],
      "metadata": {
        "id": "EuFl5sf7VTuM"
      },
      "execution_count": null,
      "outputs": []
    },
    {
      "cell_type": "code",
      "source": [
        "#PSD using Scipy Welch\n",
        "import pandas as pd\n",
        "import matplotlib.pyplot as plt\n",
        "from scipy import signal\n",
        "import numpy as np\n",
        "\n",
        "#selected_chunk = data[0,1195000:1196024]\n",
        "fig, axs = plt.subplots(2, 2, figsize=(15, 15))\n",
        "\n",
        "sfreq = raw_1.info['sfreq']\n",
        "\n",
        "f_1, Pxx_den_1 = signal.welch(data_1[0], sfreq, nperseg=1024)\n",
        "axs[0][0].semilogy(f_1, Pxx_den_1)\n",
        "axs[0][0].set_xlabel('frequency [Hz] (Patient Number 0001)')\n",
        "axs[0][0].set_ylabel('PSD [V**2/Hz]')\n",
        "\n",
        "f_43, Pxx_den_43 = signal.welch(data_43[0], sfreq, nperseg=1024)\n",
        "axs[0][1].semilogy(f_43, Pxx_den_43)\n",
        "axs[0][1].set_xlabel('frequency [Hz] (Patient Number 0043)')\n",
        "axs[0][1].set_ylabel('PSD [V**2/Hz]')\n",
        "f_49, Pxx_den_49 = signal.welch(data_49[0], sfreq, nperseg=1024)\n",
        "axs[1][0].semilogy(f_49, Pxx_den_49)\n",
        "axs[1][0].set_xlabel('frequency [Hz] (Patient Number 0049)')\n",
        "axs[1][0].set_ylabel('PSD [V**2/Hz]')\n",
        "\n",
        "f_52, Pxx_den_52 = signal.welch(data_52[0], sfreq, nperseg=1024)\n",
        "axs[1][1].semilogy(f_52, Pxx_den_52)\n",
        "axs[1][1].set_xlabel('frequency [Hz] (Patient Number 0052)')\n",
        "axs[1][1].set_ylabel('PSD [V**2/Hz]')"
      ],
      "metadata": {
        "id": "LmEIy4---c8W"
      },
      "execution_count": null,
      "outputs": []
    },
    {
      "cell_type": "code",
      "source": [
        "import mne\n",
        "import matplotlib.pyplot as plt\n",
        "import numpy as np\n",
        "\n",
        "# Create an MNE info object with 'ecg' channel type\n",
        "info = mne.create_info(ch_names=['ECG'], sfreq=sfreq, ch_types=['ecg'])\n",
        "\n",
        "# Create a RawArray object with your selected_chunk and info\n",
        "raw_data = np.array([data[0]])\n",
        "\n",
        "# Calculate the PSD using the Welch method\n",
        "fmin, fmax = 0.0, sfreq\n",
        "psd, freqs = mne.time_frequency.psd_array_welch(raw_data, sfreq=sfreq, fmin=fmin, fmax=fmax, n_fft=1024, n_overlap=0, verbose=False)\n",
        "\n",
        "# Plot the PSD\n",
        "plt.figure(figsize=(10, 6))\n",
        "plt.semilogy(freqs, psd[0], color='b')\n",
        "plt.title('Power Spectral Density (PSD) for Selected Chunk (Welch Method)')\n",
        "plt.xlabel('Frequency (Hz)')\n",
        "plt.ylabel('PSD (V^2/Hz)')\n",
        "\n",
        "# Set the y-axis limits\n",
        "y_axis_lower_limit = 0.1\n",
        "plt.ylim(y_axis_lower_limit, np.max(psd[0]))\n",
        "\n",
        "plt.grid(True)\n",
        "plt.show()"
      ],
      "metadata": {
        "id": "ciQEjT-dahe8"
      },
      "execution_count": null,
      "outputs": []
    },
    {
      "cell_type": "code",
      "source": [
        "import statsmodels.api as sm\n",
        "from statsmodels.graphics.tsaplots import plot_acf\n",
        "import matplotlib.pyplot as plt\n",
        "\n",
        "# Assuming you have loaded your time series data into 'data'\n",
        "acorr = sm.tsa.acf(data[0])\n",
        "\n",
        "\n",
        "max_lags = len(acorr) - 1\n",
        "\n",
        "# Plot the ACF for all available lags\n",
        "plot_acf(acorr, lags=max_lags)\n",
        "plt.ylim(-0.70,1.20)\n",
        "plt.show()"
      ],
      "metadata": {
        "id": "QoEJpD98QMDM"
      },
      "execution_count": null,
      "outputs": []
    },
    {
      "cell_type": "code",
      "source": [
        "print(len(acorr))"
      ],
      "metadata": {
        "colab": {
          "base_uri": "https://localhost:8080/"
        },
        "id": "Ny-Tqag8Qff9",
        "outputId": "8916220d-4199-488c-c7ec-017444c3d93b"
      },
      "execution_count": null,
      "outputs": [
        {
          "output_type": "stream",
          "name": "stdout",
          "text": [
            "72\n"
          ]
        }
      ]
    },
    {
      "cell_type": "code",
      "source": [
        "import numpy as np\n",
        "min(10 * np.log10(15216640), 15216640 // 2 - 1)"
      ],
      "metadata": {
        "colab": {
          "base_uri": "https://localhost:8080/"
        },
        "id": "zl6KhWzfRest",
        "outputId": "69b69983-7e7b-49c8-90a6-1945fe85a59d"
      },
      "execution_count": null,
      "outputs": [
        {
          "output_type": "execute_result",
          "data": {
            "text/plain": [
              "71.82318766064368"
            ]
          },
          "metadata": {},
          "execution_count": 15
        }
      ]
    }
  ],
  "metadata": {
    "colab": {
      "provenance": []
    },
    "kernelspec": {
      "display_name": "Python 3",
      "name": "python3"
    },
    "language_info": {
      "name": "python"
    }
  },
  "nbformat": 4,
  "nbformat_minor": 0
}